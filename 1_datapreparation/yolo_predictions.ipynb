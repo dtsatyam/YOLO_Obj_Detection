{
 "cells": [
  {
   "cell_type": "code",
   "execution_count": 1,
   "metadata": {},
   "outputs": [],
   "source": [
    "import cv2\n",
    "import numpy as np\n",
    "import os\n",
    "import yaml\n",
    "from yaml.loader import SafeLoader"
   ]
  },
  {
   "cell_type": "code",
   "execution_count": 5,
   "metadata": {},
   "outputs": [
    {
     "name": "stdout",
     "output_type": "stream",
     "text": [
      "['person', 'car', 'chair', 'bottle', 'pottedplant', 'bird', 'dog', 'sofa', 'bicycle', 'horse', 'boat', 'motorbike', 'cat', 'tvmonitor', 'cow', 'sheep', 'aeroplane', 'train', 'diningtable', 'bus']\n"
     ]
    }
   ],
   "source": [
    "# Load Yaml file and load yolo model\n",
    "with open('data.yaml', mode='r') as f:\n",
    "    data_yaml = yaml.load(f, Loader=SafeLoader)\n",
    "labels = data_yaml['names']\n",
    "\n",
    "print(labels)"
   ]
  },
  {
   "cell_type": "code",
   "execution_count": 13,
   "metadata": {},
   "outputs": [],
   "source": [
    "# os.chdir('./YOLO_Obj_Detection/2_Predictions')"
   ]
  },
  {
   "cell_type": "code",
   "execution_count": 14,
   "metadata": {},
   "outputs": [],
   "source": [
    "yolo = cv2.dnn.readNetFromONNX('./Model/weights/best.onnx')\n",
    "yolo.setPreferableBackend(cv2.dnn.DNN_BACKEND_OPENCV)\n",
    "yolo.setPreferableTarget(cv2.dnn.DNN_TARGET_CPU)"
   ]
  },
  {
   "cell_type": "code",
   "execution_count": 23,
   "metadata": {},
   "outputs": [],
   "source": [
    "# Load the image\n",
    "img = cv2.imread('./street_image.jpg')\n",
    "image = img.copy()\n",
    "row, col, d = image.shape\n",
    "\n",
    "# Get the yolo predictions from the image\n",
    "# Step 1: Convert the image to square shape\n",
    "max_rc = max(row, col)\n",
    "input_image = np.zeros((max_rc, max_rc, 3), dtype=np.uint8)\n",
    "input_image[0:row,0:col] = image\n",
    "\n",
    "# Step 2: Get predictions from square array\n",
    "INPUT_WH_YOLO = 640\n",
    "blob = cv2.dnn.blobFromImage(input_image, 1/255, (INPUT_WH_YOLO,INPUT_WH_YOLO), swapRB=True, crop=False)\n",
    "yolo.setInput(blob)\n",
    "preds = yolo.forward() #detections or predictions from yolo\n"
   ]
  },
  {
   "cell_type": "code",
   "execution_count": 24,
   "metadata": {},
   "outputs": [
    {
     "name": "stdout",
     "output_type": "stream",
     "text": [
      "(1, 25200, 25)\n"
     ]
    }
   ],
   "source": [
    "print(preds.shape)"
   ]
  },
  {
   "cell_type": "code",
   "execution_count": 36,
   "metadata": {},
   "outputs": [],
   "source": [
    "# Non maximum suppression\n",
    "# Step 1: filter detections based on confidence score (0.4) and probability score (0.25)\n",
    "detections = preds[0]\n",
    "boxes = []\n",
    "confidences = []\n",
    "classes = []\n",
    "\n",
    "# width and height of the input image\n",
    "image_w, image_h = input_image.shape[:2]\n",
    "x_factor = image_w/INPUT_WH_YOLO\n",
    "y_factor = image_h/INPUT_WH_YOLO\n",
    "\n",
    "for i in range(len(detections)):\n",
    "    row = detections[i]\n",
    "    confidence = row[4] #confidence of detection of an object\n",
    "    if confidence>0.4:\n",
    "        class_score = row[5:].max() # maximum probability from 20 objects\n",
    "        class_id = row[5:].argmax() # get the index position at which max probability occurs\n",
    "\n",
    "        if class_score>0.25:\n",
    "            cx,cy,w,h = row[0:4]\n",
    "            # constructing bounding box\n",
    "            left = int((cx-0.5*w)*x_factor)\n",
    "            top = int((cy-0.5*h)*y_factor)\n",
    "            width = int(w*x_factor)\n",
    "            height = int(h*y_factor)\n",
    "\n",
    "            box = np.array([left, top, width, height])\n",
    "            \n",
    "            # append values into list\n",
    "            confidences.append(confidence)\n",
    "            boxes.append(box)\n",
    "            classes.append(class_id)\n",
    "\n",
    "# clean\n",
    "boxes_np = np.array(boxes).tolist()\n",
    "confidences_np = np.array(confidences).tolist()\n",
    "\n",
    "# NMS\n",
    "index = np.array(cv2.dnn.NMSBoxes(boxes_np, confidences_np, 0.25, 0.4)).flatten()"
   ]
  },
  {
   "cell_type": "code",
   "execution_count": 38,
   "metadata": {},
   "outputs": [
    {
     "data": {
      "text/plain": [
       "0"
      ]
     },
     "execution_count": 38,
     "metadata": {},
     "output_type": "execute_result"
    }
   ],
   "source": [
    "# These many number of objects are identified from the image\n",
    "len(index)"
   ]
  },
  {
   "cell_type": "code",
   "execution_count": 40,
   "metadata": {},
   "outputs": [],
   "source": [
    "# Draw the bounding boxes\n",
    "\n",
    "for ind in index:\n",
    "    # extract bounding boxes\n",
    "    x,y,w,h = boxes_np[ind]\n",
    "    bb_conf = int(confidences_np[ind]*100)\n",
    "    classes_id = classes[ind]\n",
    "    class_name = labels[classes_id]\n",
    "    \n",
    "    text = f'{class_name}: {bb_conf}%'\n",
    "    cv2.rectangle(image, (x,y), (x+w,y+h), (0,255,0), 2)\n",
    "    cv2.rectangle(image, (x,y-30), (x+w,y), (255,255,255), -1)\n",
    "    cv2.putText(image, text, (x,y-10), FONT_HERSHEY_PLAIN, 0.7, (0,0,0), 1)\n"
   ]
  },
  {
   "cell_type": "code",
   "execution_count": 41,
   "metadata": {},
   "outputs": [],
   "source": [
    "cv2.imshow('original', img)\n",
    "cv2.imshow('yolo_predictions', image)\n",
    "\n",
    "cv2.waitKey(0)\n",
    "cv2.destroyAllWindows()"
   ]
  },
  {
   "cell_type": "code",
   "execution_count": null,
   "metadata": {},
   "outputs": [],
   "source": []
  }
 ],
 "metadata": {
  "kernelspec": {
   "display_name": "Python 3",
   "language": "python",
   "name": "python3"
  },
  "language_info": {
   "codemirror_mode": {
    "name": "ipython",
    "version": 3
   },
   "file_extension": ".py",
   "mimetype": "text/x-python",
   "name": "python",
   "nbconvert_exporter": "python",
   "pygments_lexer": "ipython3",
   "version": "3.8.0"
  }
 },
 "nbformat": 4,
 "nbformat_minor": 2
}
